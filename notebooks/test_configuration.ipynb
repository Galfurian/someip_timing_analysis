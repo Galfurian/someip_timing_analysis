{
 "cells": [
  {
   "cell_type": "code",
   "execution_count": null,
   "metadata": {},
   "outputs": [],
   "source": [
    "\n",
    "from support.configuration import *\n",
    "import json\n",
    "import os\n"
   ]
  },
  {
   "cell_type": "code",
   "execution_count": null,
   "metadata": {},
   "outputs": [],
   "source": [
    "# Check the input directory.\n",
    "tests_directory = \"tests\"\n",
    "\n",
    "if not os.path.exists(tests_directory):\n",
    "    print(f\"I cannot find the input directory: {tests_directory}\")\n",
    "    exit(1)\n",
    "if not os.path.isdir(tests_directory):\n",
    "    print(f\"The given path is not a directory: {tests_directory}\")\n",
    "    exit(1)\n",
    "\n",
    "# Iterate directory.\n",
    "for test_directory in os.listdir(tests_directory):\n",
    "    if not os.path.isdir(os.path.join(tests_directory, test_directory)):\n",
    "        continue\n",
    "    print(\"=\" * 80)\n",
    "    print(f\"Test `{test_directory}`\")\n",
    "    for input_filename in os.listdir(os.path.join(tests_directory, test_directory)):\n",
    "        # Prepare the input path.\n",
    "        input_path = os.path.join(tests_directory, test_directory, input_filename)\n",
    "        #\n",
    "        print(f\"  Configuration `{input_path}`\")\n",
    "        #\n",
    "        with open(input_path, \"rb\") as input_file:\n",
    "            input_data = json.load(input_file)\n",
    "            conf = Configuration.from_dict(input_data)\n",
    "            if conf.services:\n",
    "                print(f\"    Services :\", [(service.service, service.instance) for service in conf.services])\n",
    "            if conf.clients:\n",
    "                print(f\"    Clients  :\", [(client.service, client.instance) for client in conf.clients])\n",
    "            if conf.service_discovery.enable:\n",
    "                print(f\"    Service Discovery\")\n",
    "                print(f\"      enable                  : {conf.service_discovery.enable}\")\n",
    "                print(f\"      multicast               : {conf.service_discovery.multicast}\")\n",
    "                print(f\"      port                    : {conf.service_discovery.port}\")\n",
    "                print(f\"      protocol                : {conf.service_discovery.protocol}\")\n",
    "                print(f\"      initial_delay_min       : {conf.service_discovery.initial_delay_min}\")\n",
    "                print(f\"      initial_delay_max       : {conf.service_discovery.initial_delay_max}\")\n",
    "                print(f\"      repetitions_base_delay  : {conf.service_discovery.repetitions_base_delay}\")\n",
    "                print(f\"      repetitions_max         : {conf.service_discovery.repetitions_max}\")\n",
    "                print(f\"      ttl                     : {conf.service_discovery.ttl}\")\n",
    "                print(f\"      cyclic_offer_delay      : {conf.service_discovery.cyclic_offer_delay}\")\n",
    "                print(f\"      request_response_delay  : {conf.service_discovery.request_response_delay}\")\n",
    "                print(f\"      offer_debounce_time     : {conf.service_discovery.offer_debounce_time}\")\n",
    "        print(f\"\")\n"
   ]
  }
 ],
 "metadata": {
  "kernelspec": {
   "display_name": "Python 3",
   "language": "python",
   "name": "python3"
  },
  "language_info": {
   "codemirror_mode": {
    "name": "ipython",
    "version": 3
   },
   "file_extension": ".py",
   "mimetype": "text/x-python",
   "name": "python",
   "nbconvert_exporter": "python",
   "pygments_lexer": "ipython3",
   "version": "3.10.12"
  }
 },
 "nbformat": 4,
 "nbformat_minor": 2
}
