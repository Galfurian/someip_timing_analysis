{
 "cells": [
  {
   "cell_type": "code",
   "execution_count": null,
   "id": "208327ee-15d9-41c9-8c48-45af307b21e6",
   "metadata": {},
   "outputs": [],
   "source": [
    "# Import the SOME/IP entities.\n",
    "from someip_timing_analysis.entities import *\n",
    "# Import the timing analysis functions.\n",
    "import someip_timing_analysis.analysis as analysis\n",
    "# Import the plot functions.\n",
    "from support.utility import *\n",
    "from support.plot import *"
   ]
  },
  {
   "cell_type": "code",
   "execution_count": null,
   "id": "c4adf4cf-2c8d-4fce-93b6-0cdda3725caf",
   "metadata": {},
   "outputs": [],
   "source": [
    "# Set the logging level.\n",
    "analysis.set_logger_level(analysis.logging.ERROR)"
   ]
  },
  {
   "cell_type": "markdown",
   "id": "a14217fd",
   "metadata": {},
   "source": [
    "# Simple example with a single Client/Service pair\n",
    "In this simple case, the discovery time is the time taken by the client to discover the desired service."
   ]
  },
  {
   "cell_type": "code",
   "execution_count": null,
   "id": "05574449-a9d6-4845-8075-06a99274f0e6",
   "metadata": {},
   "outputs": [],
   "source": [
    "# Service and client configuration.\n",
    "s = Service(\"Service\", boot_del=2, init_del=4, rep_del=1, rep_max=3, cyc_del=2, ans_del=1, offer_mode=False)\n",
    "c = Client(\"Client\", boot_del=3, init_del=2, rep_del=1, rep_max=3, find_mode=True)\n",
    "# List of entities.\n",
    "entities = [c, s]\n",
    "# Communication delay.\n",
    "t_c = 2\n",
    "# Adjust the phases.\n",
    "adjust_phases(entities)\n",
    "# The actual start-up delay.\n",
    "t_w = analysis.timing_analysis(s, c, t_c)\n",
    "# Setup the plot.\n",
    "[fig, ax] = plot_setup(entities, width=20, height=5, fontsize=22)\n",
    "# Plot the phases.\n",
    "plot_all_phases(ax, entities=entities, palette=light_palette)\n",
    "# Plot service messages.\n",
    "plot_rep_messages(ax, s, c, t_c, plot_first=True, stop_at_first=False, send_time=False, arrival_time=False, plot_answer=False, plot_index=True)\n",
    "plot_cyc_messages(ax, s, c, t_c, plot_first=True, stop_at_first=False, send_time=False, arrival_time=False, plot_answer=False, plot_index=True)\n",
    "plot_rep_messages(ax, c, s, t_c, plot_first=True, stop_at_first=False, send_time=False, arrival_time=False, plot_answer=True, plot_index=True)\n",
    "# Plot the timing analysis result.\n",
    "plot_t_w(t_w, color='purple', label=\"Discovery Time\", ha=\"left\", fontsize=22)"
   ]
  },
  {
   "cell_type": "markdown",
   "id": "ded01905",
   "metadata": {},
   "source": [
    "# Advanced example with a system of Client/Service pairs\n",
    "What follows is an example of a set of client and services composing a system. The discovery time in this case is the maximum time taken by these pairs to discover each other."
   ]
  },
  {
   "cell_type": "code",
   "execution_count": null,
   "id": "c95d6c7e",
   "metadata": {},
   "outputs": [],
   "source": [
    "import random\n",
    "\n",
    "def random_pair(client_name: str, service_name: str) -> Relation:\n",
    "    offer_mode = random.randint(0, 100) > 50\n",
    "    find_mode = True if not offer_mode else (random.randint(0, 100) > 50)\n",
    "    return Relation(\n",
    "        client=Client(\n",
    "            client_name,\n",
    "            boot_del=random.randint(1, 9),\n",
    "            init_del=random.randint(1, 9),\n",
    "            rep_del=random.randint(1, 3),\n",
    "            rep_max=random.randint(3, 6),\n",
    "            find_mode=find_mode),\n",
    "        service=Service(\n",
    "            service_name,\n",
    "            boot_del=random.randint(1, 9),\n",
    "            init_del=random.randint(1, 9),\n",
    "            rep_del=random.randint(1, 3),\n",
    "            rep_max=random.randint(3, 6),\n",
    "            cyc_del=random.randint(1, 6),\n",
    "            ans_del=random.randint(1, 3),\n",
    "            offer_mode=offer_mode),\n",
    "        t_c=random.randint(1, 5))\n",
    "\n",
    "def plot_relation(rel: Relation) -> None:\n",
    "    # Get the entities.\n",
    "    entities = [rel.client, rel.service]\n",
    "    # Compute the start-up delay.\n",
    "    t_w = analysis.timing_analysis(rel.service, rel.client, rel.t_c)\n",
    "    # Adjust the phases.\n",
    "    adjust_phases(entities)\n",
    "    # Setup the plot.\n",
    "    [fig, ax] = plot_setup(entities, width=30, height=1, fontsize=8)\n",
    "    # Plot the phases.\n",
    "    plot_all_phases(ax, entities=entities, palette=light_palette)\n",
    "    # Plot service messages.\n",
    "    plot_rep_messages(ax, rel.service, rel.client, rel.t_c, plot_first=True, stop_at_first=True, plot_index=True)\n",
    "    plot_cyc_messages(ax, rel.service, rel.client, rel.t_c, plot_first=True, stop_at_first=True, plot_index=True)\n",
    "    plot_rep_messages(ax, rel.client, rel.service, rel.t_c, plot_first=True, stop_at_first=True, plot_answer=True, plot_index=True)\n",
    "    # Plot the timing analysis result.\n",
    "    plot_t_w(t_w, color='purple', label=\"Discovery Time\", ha=\"left\", fontsize=8)\n"
   ]
  },
  {
   "cell_type": "code",
   "execution_count": null,
   "id": "b30d3418",
   "metadata": {},
   "outputs": [],
   "source": [
    "# Service and client configuration.\n",
    "r0 = random_pair(\"c0\", \"s0\")\n",
    "r1 = random_pair(\"c1\", \"s1\")\n",
    "r2 = random_pair(\"c2\", \"s2\")\n",
    "r3 = random_pair(\"c3\", \"s3\")\n",
    "r4 = random_pair(\"c4\", \"s4\")\n",
    "# Create the system.\n",
    "system = System([r0, r1, r2, r3, r4])\n",
    "# The actual start-up delay.\n",
    "t_w = analysis.timing_analysis_system(system)\n",
    "print(\"The discovery time is:\", t_w)"
   ]
  },
  {
   "cell_type": "code",
   "execution_count": null,
   "id": "beaff3fd",
   "metadata": {},
   "outputs": [],
   "source": [
    "plot_relation(r0)\n",
    "plot_relation(r1)\n",
    "plot_relation(r2)\n",
    "plot_relation(r3)\n",
    "plot_relation(r4)"
   ]
  }
 ],
 "metadata": {
  "kernelspec": {
   "display_name": "Python 3 (ipykernel)",
   "language": "python",
   "name": "python3"
  },
  "language_info": {
   "codemirror_mode": {
    "name": "ipython",
    "version": 3
   },
   "file_extension": ".py",
   "mimetype": "text/x-python",
   "name": "python",
   "nbconvert_exporter": "python",
   "pygments_lexer": "ipython3",
   "version": "3.10.12"
  },
  "vscode": {
   "interpreter": {
    "hash": "916dbcbb3f70747c44a77c7bcd40155683ae19c65e1c03b4aa3499c5328201f1"
   }
  }
 },
 "nbformat": 4,
 "nbformat_minor": 5
}
