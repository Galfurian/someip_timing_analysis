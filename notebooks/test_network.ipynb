{
 "cells": [
  {
   "cell_type": "code",
   "execution_count": 6,
   "metadata": {},
   "outputs": [],
   "source": [
    "# Import the classes.\n",
    "from analysis.timing.graph import *\n",
    "from analysis.timing.entities import *\n",
    "\n",
    "# Import the timing analysis functions.\n",
    "import analysis.timing.timing_analysis as analysis\n",
    "\n",
    "# For weight functions.\n",
    "import functools\n",
    "\n",
    "# For logging.\n",
    "import logging\n",
    "\n",
    "# \n",
    "import csv"
   ]
  },
  {
   "cell_type": "code",
   "execution_count": 7,
   "metadata": {},
   "outputs": [],
   "source": [
    "# Set the logging level.\n",
    "analysis.set_logger_level(logging.ERROR)\n"
   ]
  },
  {
   "cell_type": "markdown",
   "metadata": {},
   "source": [
    "# Network Support"
   ]
  },
  {
   "cell_type": "code",
   "execution_count": 8,
   "metadata": {},
   "outputs": [],
   "source": [
    "class Device(Node):\n",
    "    def __init__(self, id, entities, base_delay=None):\n",
    "        Node.__init__(self, id)\n",
    "        self.entities = entities\n",
    "        self.base_delay = base_delay\n",
    "\n",
    "    def software_delay(self) -> float:\n",
    "        if self.base_delay:\n",
    "            return len(self.entities) * self.base_delay\n",
    "        return 0\n",
    "\n",
    "\n",
    "def find_containing_node(G: Graph, e: Entity) -> Device:\n",
    "    for node in G.graph:\n",
    "        if e in node.entities:\n",
    "            return node\n",
    "    return None\n",
    "\n",
    "\n",
    "def get_delay(G: Graph, e0: Entity, e1: Entity):\n",
    "    n0 = find_containing_node(G, e0)\n",
    "    n1 = find_containing_node(G, e1)\n",
    "    assert n0, \"No node contains {}\".format(e0)\n",
    "    assert n1, \"No node contains {}\".format(e1)\n",
    "    spath = G.find_shortest_path(n0, n1)\n",
    "    assert spath, \"Cannot find shortest path\"\n",
    "    print(spath)\n",
    "    return n0.software_delay() + spath[0] + n1.software_delay()\n",
    "\n",
    "\n",
    "def create_relation(G: Graph, e0: Entity, e1: Entity):\n",
    "    return Relation(e0, e1, get_delay(G, e0, e1))\n"
   ]
  },
  {
   "cell_type": "markdown",
   "metadata": {},
   "source": [
    "# Scenario (SOME/IP)"
   ]
  },
  {
   "cell_type": "code",
   "execution_count": 9,
   "metadata": {},
   "outputs": [],
   "source": [
    "# Load the services.\n",
    "S0 = Service(\"S0\", boot_del=2, init_del=4, rep_del=1, rep_max=3, cyc_del=2, ans_del=1, offer_mode=True)\n",
    "S1 = Service(\"S1\", boot_del=1, init_del=3, rep_del=1, rep_max=3, cyc_del=2, ans_del=1, offer_mode=True)\n",
    "S2 = Service(\"S2\", boot_del=4, init_del=6, rep_del=1, rep_max=3, cyc_del=2, ans_del=1, offer_mode=True)\n",
    "S3 = Service(\"S3\", boot_del=2, init_del=4, rep_del=1, rep_max=3, cyc_del=2, ans_del=1, offer_mode=True)\n",
    "S4 = Service(\"S4\", boot_del=1, init_del=3, rep_del=1, rep_max=3, cyc_del=2, ans_del=1, offer_mode=True)\n",
    "\n",
    "# Load the clients.\n",
    "C0 = Client(\"C0\", boot_del=3, init_del=2, rep_del=1, rep_max=3, find_mode=True)\n",
    "C1 = Client(\"C1\", boot_del=3, init_del=2, rep_del=1, rep_max=3, find_mode=True)\n",
    "C2 = Client(\"C2\", boot_del=3, init_del=2, rep_del=1, rep_max=3, find_mode=True)\n",
    "C3 = Client(\"C3\", boot_del=3, init_del=2, rep_del=1, rep_max=3, find_mode=True)\n",
    "C4 = Client(\"C4\", boot_del=3, init_del=2, rep_del=1, rep_max=3, find_mode=True)\n",
    "C5 = Client(\"C5\", boot_del=3, init_del=2, rep_del=1, rep_max=3, find_mode=True)\n"
   ]
  },
  {
   "cell_type": "markdown",
   "metadata": {},
   "source": [
    "# Scenario (Graph)"
   ]
  },
  {
   "cell_type": "code",
   "execution_count": 10,
   "metadata": {},
   "outputs": [
    {
     "ename": "KeyError",
     "evalue": "0",
     "output_type": "error",
     "traceback": [
      "\u001b[0;31m---------------------------------------------------------------------------\u001b[0m",
      "\u001b[0;31mKeyError\u001b[0m                                  Traceback (most recent call last)",
      "Cell \u001b[0;32mIn[10], line 13\u001b[0m\n\u001b[1;32m     10\u001b[0m     \u001b[38;5;28;01mreturn\u001b[39;00m (frame_length \u001b[38;5;241m*\u001b[39m \u001b[38;5;241m8\u001b[39m) \u001b[38;5;241m/\u001b[39m link_speed\n\u001b[1;32m     12\u001b[0m \u001b[38;5;66;03m# Create the graph.\u001b[39;00m\n\u001b[0;32m---> 13\u001b[0m G \u001b[38;5;241m=\u001b[39m \u001b[43mGraph\u001b[49m\u001b[43m(\u001b[49m\n\u001b[1;32m     14\u001b[0m \u001b[43m    \u001b[49m\u001b[43m[\u001b[49m\n\u001b[1;32m     15\u001b[0m \u001b[43m        \u001b[49m\u001b[43m(\u001b[49m\u001b[43mn0\u001b[49m\u001b[43m,\u001b[49m\u001b[43m \u001b[49m\u001b[43mn1\u001b[49m\u001b[43m,\u001b[49m\u001b[43m \u001b[49m\u001b[43mfunctools\u001b[49m\u001b[38;5;241;43m.\u001b[39;49m\u001b[43mpartial\u001b[49m\u001b[43m(\u001b[49m\u001b[43mweight_function\u001b[49m\u001b[43m,\u001b[49m\u001b[43m \u001b[49m\u001b[43mframe_length\u001b[49m\u001b[38;5;241;43m=\u001b[39;49m\u001b[38;5;241;43m256\u001b[39;49m\u001b[43m,\u001b[49m\u001b[43m \u001b[49m\u001b[43mlink_speed\u001b[49m\u001b[38;5;241;43m=\u001b[39;49m\u001b[38;5;241;43m1e09\u001b[39;49m\u001b[43m)\u001b[49m\u001b[43m)\u001b[49m\u001b[43m,\u001b[49m\n\u001b[1;32m     16\u001b[0m \u001b[43m        \u001b[49m\u001b[43m(\u001b[49m\u001b[43mn1\u001b[49m\u001b[43m,\u001b[49m\u001b[43m \u001b[49m\u001b[43mn2\u001b[49m\u001b[43m,\u001b[49m\u001b[43m \u001b[49m\u001b[43mfunctools\u001b[49m\u001b[38;5;241;43m.\u001b[39;49m\u001b[43mpartial\u001b[49m\u001b[43m(\u001b[49m\u001b[43mweight_function\u001b[49m\u001b[43m,\u001b[49m\u001b[43m \u001b[49m\u001b[43mframe_length\u001b[49m\u001b[38;5;241;43m=\u001b[39;49m\u001b[38;5;241;43m256\u001b[39;49m\u001b[43m,\u001b[49m\u001b[43m \u001b[49m\u001b[43mlink_speed\u001b[49m\u001b[38;5;241;43m=\u001b[39;49m\u001b[38;5;241;43m1e06\u001b[39;49m\u001b[43m)\u001b[49m\u001b[43m)\u001b[49m\u001b[43m,\u001b[49m\n\u001b[1;32m     17\u001b[0m \u001b[43m        \u001b[49m\u001b[43m(\u001b[49m\u001b[43mn1\u001b[49m\u001b[43m,\u001b[49m\u001b[43m \u001b[49m\u001b[43mn3\u001b[49m\u001b[43m,\u001b[49m\u001b[43m \u001b[49m\u001b[43mfunctools\u001b[49m\u001b[38;5;241;43m.\u001b[39;49m\u001b[43mpartial\u001b[49m\u001b[43m(\u001b[49m\u001b[43mweight_function\u001b[49m\u001b[43m,\u001b[49m\u001b[43m \u001b[49m\u001b[43mframe_length\u001b[49m\u001b[38;5;241;43m=\u001b[39;49m\u001b[38;5;241;43m1024\u001b[39;49m\u001b[43m,\u001b[49m\u001b[43m \u001b[49m\u001b[43mlink_speed\u001b[49m\u001b[38;5;241;43m=\u001b[39;49m\u001b[38;5;241;43m1e03\u001b[39;49m\u001b[43m)\u001b[49m\u001b[43m)\u001b[49m\u001b[43m,\u001b[49m\n\u001b[1;32m     18\u001b[0m \u001b[43m        \u001b[49m\u001b[43m(\u001b[49m\u001b[43mn3\u001b[49m\u001b[43m,\u001b[49m\u001b[43m \u001b[49m\u001b[43mn4\u001b[49m\u001b[43m,\u001b[49m\u001b[43m \u001b[49m\u001b[43mfunctools\u001b[49m\u001b[38;5;241;43m.\u001b[39;49m\u001b[43mpartial\u001b[49m\u001b[43m(\u001b[49m\u001b[43mweight_function\u001b[49m\u001b[43m,\u001b[49m\u001b[43m \u001b[49m\u001b[43mframe_length\u001b[49m\u001b[38;5;241;43m=\u001b[39;49m\u001b[38;5;241;43m256\u001b[39;49m\u001b[43m,\u001b[49m\u001b[43m \u001b[49m\u001b[43mlink_speed\u001b[49m\u001b[38;5;241;43m=\u001b[39;49m\u001b[38;5;241;43m1e09\u001b[39;49m\u001b[43m)\u001b[49m\u001b[43m)\u001b[49m\u001b[43m,\u001b[49m\n\u001b[1;32m     19\u001b[0m \u001b[43m        \u001b[49m\u001b[43m(\u001b[49m\u001b[43mn2\u001b[49m\u001b[43m,\u001b[49m\u001b[43m \u001b[49m\u001b[43mn3\u001b[49m\u001b[43m,\u001b[49m\u001b[43m \u001b[49m\u001b[43mfunctools\u001b[49m\u001b[38;5;241;43m.\u001b[39;49m\u001b[43mpartial\u001b[49m\u001b[43m(\u001b[49m\u001b[43mweight_function\u001b[49m\u001b[43m,\u001b[49m\u001b[43m \u001b[49m\u001b[43mframe_length\u001b[49m\u001b[38;5;241;43m=\u001b[39;49m\u001b[38;5;241;43m256\u001b[39;49m\u001b[43m,\u001b[49m\u001b[43m \u001b[49m\u001b[43mlink_speed\u001b[49m\u001b[38;5;241;43m=\u001b[39;49m\u001b[38;5;241;43m1e06\u001b[39;49m\u001b[43m)\u001b[49m\u001b[43m)\u001b[49m\u001b[43m,\u001b[49m\n\u001b[1;32m     20\u001b[0m \u001b[43m        \u001b[49m\u001b[43m(\u001b[49m\u001b[43mn2\u001b[49m\u001b[43m,\u001b[49m\u001b[43m \u001b[49m\u001b[43mn4\u001b[49m\u001b[43m,\u001b[49m\u001b[43m \u001b[49m\u001b[43mfunctools\u001b[49m\u001b[38;5;241;43m.\u001b[39;49m\u001b[43mpartial\u001b[49m\u001b[43m(\u001b[49m\u001b[43mweight_function\u001b[49m\u001b[43m,\u001b[49m\u001b[43m \u001b[49m\u001b[43mframe_length\u001b[49m\u001b[38;5;241;43m=\u001b[39;49m\u001b[38;5;241;43m1024\u001b[39;49m\u001b[43m,\u001b[49m\u001b[43m \u001b[49m\u001b[43mlink_speed\u001b[49m\u001b[38;5;241;43m=\u001b[39;49m\u001b[38;5;241;43m1e03\u001b[39;49m\u001b[43m)\u001b[49m\u001b[43m)\u001b[49m\n\u001b[1;32m     21\u001b[0m \u001b[43m    \u001b[49m\u001b[43m]\u001b[49m\u001b[43m,\u001b[49m\n\u001b[1;32m     22\u001b[0m \u001b[43m    \u001b[49m\u001b[38;5;28;43;01mFalse\u001b[39;49;00m\n\u001b[1;32m     23\u001b[0m \u001b[43m)\u001b[49m\n",
      "File \u001b[0;32m~/repository/personal/someip_timing_analysis/notebooks/analysis/timing/graph.py:43\u001b[0m, in \u001b[0;36mGraph.__init__\u001b[0;34m(self, connections, directed)\u001b[0m\n\u001b[1;32m     41\u001b[0m \u001b[38;5;28mself\u001b[39m\u001b[38;5;241m.\u001b[39mweight_functions \u001b[38;5;241m=\u001b[39m collections\u001b[38;5;241m.\u001b[39mdefaultdict(\u001b[38;5;28mset\u001b[39m)\n\u001b[1;32m     42\u001b[0m \u001b[38;5;28mself\u001b[39m\u001b[38;5;241m.\u001b[39mdirected: \u001b[38;5;28mbool\u001b[39m \u001b[38;5;241m=\u001b[39m directed\n\u001b[0;32m---> 43\u001b[0m \u001b[38;5;28;43mself\u001b[39;49m\u001b[38;5;241;43m.\u001b[39;49m\u001b[43madd_connections\u001b[49m\u001b[43m(\u001b[49m\u001b[43mconnections\u001b[49m\u001b[43m)\u001b[49m\n",
      "File \u001b[0;32m~/repository/personal/someip_timing_analysis/notebooks/analysis/timing/graph.py:48\u001b[0m, in \u001b[0;36mGraph.add_connections\u001b[0;34m(self, connections)\u001b[0m\n\u001b[1;32m     46\u001b[0m \u001b[38;5;250m\u001b[39m\u001b[38;5;124;03m\"\"\"Add connections (list of tuple pairs) to graph\"\"\"\u001b[39;00m\n\u001b[1;32m     47\u001b[0m \u001b[38;5;28;01mfor\u001b[39;00m source, target, weight_function \u001b[38;5;129;01min\u001b[39;00m connections:\n\u001b[0;32m---> 48\u001b[0m     \u001b[38;5;28;43mself\u001b[39;49m\u001b[38;5;241;43m.\u001b[39;49m\u001b[43madd\u001b[49m\u001b[43m(\u001b[49m\u001b[43msource\u001b[49m\u001b[43m,\u001b[49m\u001b[43m \u001b[49m\u001b[43mtarget\u001b[49m\u001b[43m,\u001b[49m\u001b[43m \u001b[49m\u001b[43mweight_function\u001b[49m\u001b[43m)\u001b[49m\n",
      "File \u001b[0;32m~/repository/personal/someip_timing_analysis/notebooks/analysis/timing/graph.py:52\u001b[0m, in \u001b[0;36mGraph.add\u001b[0;34m(self, source, target, weight_function)\u001b[0m\n\u001b[1;32m     50\u001b[0m \u001b[38;5;28;01mdef\u001b[39;00m \u001b[38;5;21madd\u001b[39m(\u001b[38;5;28mself\u001b[39m, source, target, weight_function):\n\u001b[1;32m     51\u001b[0m \u001b[38;5;250m    \u001b[39m\u001b[38;5;124;03m\"\"\"Add connection between source and target\"\"\"\u001b[39;00m\n\u001b[0;32m---> 52\u001b[0m     \u001b[38;5;28;01mif\u001b[39;00m \u001b[38;5;129;01mnot\u001b[39;00m \u001b[38;5;28;43mself\u001b[39;49m\u001b[38;5;241;43m.\u001b[39;49m\u001b[43mgraph\u001b[49m\u001b[43m[\u001b[49m\u001b[43msource\u001b[49m\u001b[43m]\u001b[49m:\n\u001b[1;32m     53\u001b[0m         \u001b[38;5;28mself\u001b[39m\u001b[38;5;241m.\u001b[39mgraph[source] \u001b[38;5;241m=\u001b[39m \u001b[38;5;28mset\u001b[39m()\n\u001b[1;32m     55\u001b[0m     \u001b[38;5;28mself\u001b[39m\u001b[38;5;241m.\u001b[39mgraph[source]\u001b[38;5;241m.\u001b[39madd(target)\n",
      "\u001b[0;31mKeyError\u001b[0m: 0"
     ]
    }
   ],
   "source": [
    "# Place them inside nodes.\n",
    "n0 = Device(0, [S0, C0, C1], 0.05)\n",
    "n1 = Device(1, [S1, S2], 0.025)\n",
    "n2 = Device(2, [S3, C2, C3], 0.075)\n",
    "n3 = Device(3, [S4, C4], 0.045)\n",
    "n4 = Device(4, [C5], 0.076)\n",
    "\n",
    "# \n",
    "def weight_function(G:Graph, n0:Node, n1:Node, frame_length:float, link_speed:float) -> float:\n",
    "    return (frame_length * 8) / link_speed\n",
    "\n",
    "# Create the graph.\n",
    "G = Graph(\n",
    "    [\n",
    "        (n0, n1, functools.partial(weight_function, frame_length=256, link_speed=1e09)),\n",
    "        (n1, n2, functools.partial(weight_function, frame_length=256, link_speed=1e06)),\n",
    "        (n1, n3, functools.partial(weight_function, frame_length=1024, link_speed=1e03)),\n",
    "        (n3, n4, functools.partial(weight_function, frame_length=256, link_speed=1e09)),\n",
    "        (n2, n3, functools.partial(weight_function, frame_length=256, link_speed=1e06)),\n",
    "        (n2, n4, functools.partial(weight_function, frame_length=1024, link_speed=1e03))\n",
    "    ],\n",
    "    False\n",
    ")\n"
   ]
  },
  {
   "cell_type": "code",
   "execution_count": null,
   "metadata": {},
   "outputs": [
    {
     "data": {
      "text/plain": [
       "14.420050048000002"
      ]
     },
     "execution_count": 6,
     "metadata": {},
     "output_type": "execute_result"
    }
   ],
   "source": [
    "# Define the relations between clients and services.\n",
    "system = [\n",
    "    create_relation(G, C0, S3),\n",
    "    create_relation(G, C0, S4),\n",
    "    create_relation(G, C1, S0),\n",
    "    create_relation(G, C2, S4),\n",
    "    create_relation(G, C3, S4),\n",
    "    create_relation(G, C3, S0),\n",
    "    create_relation(G, C4, S1),\n",
    "    create_relation(G, C5, S0)\n",
    "]\n",
    "\n",
    "# Compute the worst-case discovery time.\n",
    "analysis.timing_analysis_system(system)\n"
   ]
  },
  {
   "cell_type": "markdown",
   "metadata": {},
   "source": [
    "# Graph to CSV"
   ]
  },
  {
   "cell_type": "code",
   "execution_count": null,
   "metadata": {},
   "outputs": [],
   "source": [
    "def write_to_csv():\n",
    "    pass\n",
    "\n",
    "def read_from_csv():\n",
    "    pass\n"
   ]
  }
 ],
 "metadata": {
  "kernelspec": {
   "display_name": "Python 3",
   "language": "python",
   "name": "python3"
  },
  "language_info": {
   "codemirror_mode": {
    "name": "ipython",
    "version": 3
   },
   "file_extension": ".py",
   "mimetype": "text/x-python",
   "name": "python",
   "nbconvert_exporter": "python",
   "pygments_lexer": "ipython3",
   "version": "3.10.12"
  }
 },
 "nbformat": 4,
 "nbformat_minor": 2
}
