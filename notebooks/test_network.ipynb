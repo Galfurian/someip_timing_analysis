{
 "cells": [
  {
   "cell_type": "code",
   "execution_count": 1,
   "metadata": {},
   "outputs": [],
   "source": [
    "# Import the classes.\n",
    "from analysis.timing.graph import *\n",
    "from analysis.timing.entities import *\n",
    "# Import the timing analysis functions.\n",
    "import analysis.timing.timing_analysis as analysis\n",
    "from functools import *\n"
   ]
  },
  {
   "cell_type": "code",
   "execution_count": 2,
   "metadata": {},
   "outputs": [],
   "source": [
    "import logging\n",
    "# Set the logging level.\n",
    "analysis.set_logger_level(logging.ERROR)"
   ]
  },
  {
   "cell_type": "code",
   "execution_count": 3,
   "metadata": {},
   "outputs": [],
   "source": [
    "class Device:\n",
    "    def __init__(self, entities, base_delay=None):\n",
    "        self.entities = entities\n",
    "        self.base_delay = base_delay\n",
    "\n",
    "    def software_delay(self) -> float:\n",
    "        if self.base_delay:\n",
    "            return len(self.entities) * self.base_delay\n",
    "        return 0\n",
    "\n",
    "\n",
    "def find_containing_node(G: Graph, e: Entity) -> Device:\n",
    "    for node in G.graph:\n",
    "        if e in node.value.entities:\n",
    "            return node\n",
    "    return None\n",
    "\n",
    "\n",
    "def get_delay(G: Graph, e0: Entity, e1: Entity):\n",
    "    n0 = find_containing_node(G, e0)\n",
    "    n1 = find_containing_node(G, e1)\n",
    "    assert n0, \"No node contains {}\".format(e0)\n",
    "    assert n1, \"No node contains {}\".format(e1)\n",
    "    spath = G.find_shortest_path(n0, n1)\n",
    "    assert spath, \"Cannot find shortest path\"\n",
    "    return n0.value.software_delay() + spath[0] + n1.value.software_delay()\n",
    "\n",
    "\n",
    "def create_relation(G: Graph, e0: Entity, e1: Entity):\n",
    "    return Relation(e0, e1, get_delay(G, e0, e1))\n"
   ]
  },
  {
   "cell_type": "code",
   "execution_count": 4,
   "metadata": {},
   "outputs": [],
   "source": [
    "# Create the nodes.\n",
    "n0 = Node(0)\n",
    "n1 = Node(1)\n",
    "n2 = Node(2)\n",
    "n3 = Node(3)\n",
    "n4 = Node(4)\n",
    "\n",
    "def weight_function_1(G:Graph, n0:Node, n1:Node, frame_length:float, link_speed:float) -> float:\n",
    "    return (frame_length * 8) / link_speed\n",
    "\n",
    "def weight_function_2(G:Graph, n0:Node, n1:Node) -> float:\n",
    "    return (256 * 8) / 1e09\n",
    "\n",
    "# Create the graph.\n",
    "G = Graph(\n",
    "    [\n",
    "        (n0, n1, partial(weight_function_1, frame_length=256, link_speed=1e09)),\n",
    "        (n1, n2, partial(weight_function_1, frame_length=256, link_speed=1e09)),\n",
    "        (n1, n3, partial(weight_function_1, frame_length=512, link_speed=1e09)),\n",
    "        (n3, n4, weight_function_2),\n",
    "        (n2, n3, weight_function_2),\n",
    "        (n2, n4, weight_function_2)\n",
    "    ],\n",
    "    False\n",
    ")"
   ]
  },
  {
   "cell_type": "code",
   "execution_count": 5,
   "metadata": {},
   "outputs": [],
   "source": [
    "# Load the services.\n",
    "S0 = Service(\"S0\", boot_del=2, init_del=4, rep_del=1, rep_max=3, cyc_del=2, ans_del=1, offer_mode=True)\n",
    "S1 = Service(\"S1\", boot_del=1, init_del=3, rep_del=1, rep_max=3, cyc_del=2, ans_del=1, offer_mode=True)\n",
    "S2 = Service(\"S2\", boot_del=4, init_del=6, rep_del=1, rep_max=3, cyc_del=2, ans_del=1, offer_mode=True)\n",
    "S3 = Service(\"S3\", boot_del=2, init_del=4, rep_del=1, rep_max=3, cyc_del=2, ans_del=1, offer_mode=True)\n",
    "S4 = Service(\"S4\", boot_del=1, init_del=3, rep_del=1, rep_max=3, cyc_del=2, ans_del=1, offer_mode=True)\n",
    "\n",
    "# Load the clients.\n",
    "C0 = Client(\"C0\", boot_del=3, init_del=2, rep_del=1, rep_max=3, find_mode=True)\n",
    "C1 = Client(\"C1\", boot_del=3, init_del=2, rep_del=1, rep_max=3, find_mode=True)\n",
    "C2 = Client(\"C2\", boot_del=3, init_del=2, rep_del=1, rep_max=3, find_mode=True)\n",
    "C3 = Client(\"C3\", boot_del=3, init_del=2, rep_del=1, rep_max=3, find_mode=True)\n",
    "C4 = Client(\"C4\", boot_del=3, init_del=2, rep_del=1, rep_max=3, find_mode=True)\n",
    "C5 = Client(\"C5\", boot_del=3, init_del=2, rep_del=1, rep_max=3, find_mode=True)\n",
    "\n",
    "# Place them inside nodes.\n",
    "n0.value = Device([S0, C0, C1], 0.05)\n",
    "n1.value = Device([S1, S2], 0.025)\n",
    "n2.value = Device([S3, C2, C3], 0.075)\n",
    "n3.value = Device([S4, C4], 0.045)\n",
    "n4.value = Device([C5], 0.076)\n"
   ]
  },
  {
   "cell_type": "code",
   "execution_count": 6,
   "metadata": {},
   "outputs": [
    {
     "data": {
      "text/plain": [
       "6.375004096"
      ]
     },
     "execution_count": 6,
     "metadata": {},
     "output_type": "execute_result"
    }
   ],
   "source": [
    "# Define the relations between clients and services.\n",
    "system = [\n",
    "    create_relation(G, C0, S3),\n",
    "    create_relation(G, C0, S4),\n",
    "    create_relation(G, C1, S0),\n",
    "    create_relation(G, C2, S4),\n",
    "    create_relation(G, C3, S4),\n",
    "    create_relation(G, C3, S0),\n",
    "    create_relation(G, C4, S1),\n",
    "    create_relation(G, C5, S0)\n",
    "]\n",
    "\n",
    "# Compute the worst-case discovery time.\n",
    "analysis.timing_analysis_system(system)\n"
   ]
  }
 ],
 "metadata": {
  "kernelspec": {
   "display_name": "Python 3",
   "language": "python",
   "name": "python3"
  },
  "language_info": {
   "codemirror_mode": {
    "name": "ipython",
    "version": 3
   },
   "file_extension": ".py",
   "mimetype": "text/x-python",
   "name": "python",
   "nbconvert_exporter": "python",
   "pygments_lexer": "ipython3",
   "version": "3.10.12"
  }
 },
 "nbformat": 4,
 "nbformat_minor": 2
}
