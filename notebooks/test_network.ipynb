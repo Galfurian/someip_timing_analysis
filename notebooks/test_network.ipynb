{
 "cells": [
  {
   "cell_type": "code",
   "execution_count": 4,
   "metadata": {},
   "outputs": [],
   "source": [
    "# Import the classes.\n",
    "import someip_timing_analysis as someip\n",
    "\n",
    "# For plotting the network.\n",
    "import networkx as nx"
   ]
  },
  {
   "cell_type": "code",
   "execution_count": 5,
   "metadata": {},
   "outputs": [
    {
     "ename": "AttributeError",
     "evalue": "module 'someip_timing_analysis' has no attribute 'analysis'",
     "output_type": "error",
     "traceback": [
      "\u001b[0;31m---------------------------------------------------------------------------\u001b[0m",
      "\u001b[0;31mAttributeError\u001b[0m                            Traceback (most recent call last)",
      "Cell \u001b[0;32mIn[5], line 2\u001b[0m\n\u001b[1;32m      1\u001b[0m \u001b[38;5;66;03m# Set the logging level.\u001b[39;00m\n\u001b[0;32m----> 2\u001b[0m \u001b[43msomeip\u001b[49m\u001b[38;5;241;43m.\u001b[39;49m\u001b[43manalysis\u001b[49m\u001b[38;5;241m.\u001b[39mset_logger_level(someip\u001b[38;5;241m.\u001b[39manalysis\u001b[38;5;241m.\u001b[39mlogging\u001b[38;5;241m.\u001b[39mERROR)\n",
      "\u001b[0;31mAttributeError\u001b[0m: module 'someip_timing_analysis' has no attribute 'analysis'"
     ]
    }
   ],
   "source": [
    "# Set the logging level.\n",
    "someip.analysis.set_logger_level(someip.analysis.logging.ERROR)\n"
   ]
  },
  {
   "cell_type": "markdown",
   "metadata": {},
   "source": [
    "# Network Support"
   ]
  },
  {
   "cell_type": "code",
   "execution_count": null,
   "metadata": {},
   "outputs": [],
   "source": [
    "class Device(Node):\n",
    "    \"\"\"The device extends node from the graph library.\n",
    "    \"\"\"\n",
    "    def __init__(self, id: int, entities: List[Entity], base_delay: float = 0):\n",
    "        \"\"\"It takes as input the unique id, and the list of entities.\n",
    "        Args:\n",
    "            id (int): The unique id.\n",
    "            entities (List[Entity]): The list of entities.\n",
    "            base_delay (_type_, optional): Base software delay. Defaults to 0.\n",
    "        \"\"\"\n",
    "        Node.__init__(self, id)\n",
    "        self.entities = entities\n",
    "        self.base_delay = base_delay\n",
    "\n",
    "    def device_delay(self) -> float:\n",
    "        return len(self.entities) * self.base_delay\n",
    "\n",
    "def device_to_device_delay(graph: Graph, source: Device, target: Device) -> float:\n",
    "    \"\"\"Get the delay between every node.\n",
    "\n",
    "    Args:\n",
    "        source (Device): Source device.\n",
    "        target (Device): Target device.\n",
    "\n",
    "    Returns:\n",
    "        float: The delay between the nodes.\n",
    "    \"\"\"\n",
    "    if source == target:\n",
    "        return 0\n",
    "    (weight, _) = graph.find_shortest_path(source, target)\n",
    "    return source.device_delay() + weight + target.device_delay()\n"
   ]
  },
  {
   "cell_type": "markdown",
   "metadata": {},
   "source": [
    "# Scenario (SOME/IP)"
   ]
  },
  {
   "cell_type": "code",
   "execution_count": null,
   "metadata": {},
   "outputs": [],
   "source": [
    "# Load the services.\n",
    "S0 = Service(\"S0\", boot_del=2, init_del=4, rep_del=1, rep_max=3, cyc_del=2, ans_del=1, offer_mode=True)\n",
    "S1 = Service(\"S1\", boot_del=1, init_del=3, rep_del=1, rep_max=3, cyc_del=2, ans_del=1, offer_mode=True)\n",
    "S2 = Service(\"S2\", boot_del=4, init_del=6, rep_del=1, rep_max=3, cyc_del=2, ans_del=1, offer_mode=True)\n",
    "S3 = Service(\"S3\", boot_del=2, init_del=4, rep_del=1, rep_max=3, cyc_del=2, ans_del=1, offer_mode=True)\n",
    "S4 = Service(\"S4\", boot_del=1, init_del=3, rep_del=1, rep_max=3, cyc_del=2, ans_del=1, offer_mode=True)\n",
    "\n",
    "# Load the clients.\n",
    "C0 = Client(\"C0\", boot_del=3, init_del=2, rep_del=1, rep_max=3, find_mode=True)\n",
    "C1 = Client(\"C1\", boot_del=3, init_del=2, rep_del=1, rep_max=3, find_mode=True)\n",
    "C2 = Client(\"C2\", boot_del=3, init_del=2, rep_del=1, rep_max=3, find_mode=True)\n",
    "C3 = Client(\"C3\", boot_del=3, init_del=2, rep_del=1, rep_max=3, find_mode=True)\n",
    "C4 = Client(\"C4\", boot_del=3, init_del=2, rep_del=1, rep_max=3, find_mode=True)\n",
    "C5 = Client(\"C5\", boot_del=3, init_del=2, rep_del=1, rep_max=3, find_mode=True)\n"
   ]
  },
  {
   "cell_type": "markdown",
   "metadata": {},
   "source": [
    "# Scenario (Graph)"
   ]
  },
  {
   "cell_type": "code",
   "execution_count": null,
   "metadata": {},
   "outputs": [],
   "source": [
    "# Place services and clients inside nodes.\n",
    "n0 = Device(id = 0, entities = [S0, C0, C1], base_delay = 0.05)\n",
    "n1 = Device(id = 1, entities = [S1, S2],     base_delay = 0.025)\n",
    "n2 = Device(id = 2, entities = [S3, C2, C3], base_delay = 0.075)\n",
    "n3 = Device(id = 3, entities = [S4, C4],     base_delay = 0.045)\n",
    "n4 = Device(id = 4, entities = [C5],         base_delay = 0.076)\n",
    "\n",
    "# Create the graph, using weights computed using the following formula:\n",
    "#   (frame_length * 8) / link_speed\n",
    "# \n",
    "G = Graph(\n",
    "    connections = [\n",
    "        (n0, n1, lambda graph, node0, node1: ( 256 * 8) / 1e09),\n",
    "        (n1, n2, lambda graph, node0, node1: ( 256 * 8) / 1e06),\n",
    "        (n1, n3, lambda graph, node0, node1: (1024 * 8) / 1e03),\n",
    "        (n3, n4, lambda graph, node0, node1: ( 256 * 8) / 1e09),\n",
    "        (n2, n3, lambda graph, node0, node1: ( 256 * 8) / 1e06),\n",
    "        (n2, n4, lambda graph, node0, node1: (1024 * 8) / 1e03)\n",
    "    ],\n",
    "    directed = False\n",
    ")\n"
   ]
  },
  {
   "cell_type": "markdown",
   "metadata": {},
   "source": [
    "# Visualize the graph"
   ]
  },
  {
   "cell_type": "code",
   "execution_count": null,
   "metadata": {},
   "outputs": [],
   "source": [
    "if G.directed:\n",
    "    graph = nx.DiGraph()\n",
    "else:\n",
    "    graph = nx.Graph()\n",
    "\n",
    "# List of edges.\n",
    "edge_list = [(source.id, target.id) for (source, target) in G.get_edge_list()]\n",
    "\n",
    "# List of edge labels.\n",
    "edge_labels = {}\n",
    "for (source, target) in G.get_edge_list():\n",
    "    edge_labels[source.id, target.id] = str(G.get_weight(source, target))\n",
    "\n",
    "# Add the edges.\n",
    "graph.add_edges_from(edge_list)\n",
    "# Positions for all nodes.\n",
    "pos = nx.spring_layout(graph, seed=1, k=0.15, iterations=20)\n",
    "# Add the nodes.\n",
    "nx.draw_networkx_nodes(graph, pos, node_color=\"tab:blue\")\n",
    "# Draw the node labels.\n",
    "nx.draw_networkx_labels(graph, pos, font_family=\"sans-serif\")\n",
    "# Draw the edges.\n",
    "nx.draw_networkx_edges(graph, pos, edgelist=edge_list, width=1.5, edge_color=\"tab:gray\")\n",
    "# Draw the edges weights.\n",
    "nx.draw_networkx_edge_labels(graph, pos, edge_labels)\n",
    "# Draw the graph.\n",
    "plt.tight_layout()\n",
    "plt.show()"
   ]
  },
  {
   "cell_type": "markdown",
   "metadata": {},
   "source": [
    "# Compute timing analysis"
   ]
  },
  {
   "cell_type": "code",
   "execution_count": null,
   "metadata": {},
   "outputs": [],
   "source": [
    "# Check where the SOME/IP entities are located.\n",
    "containing_node = {}\n",
    "for node in G.graph:\n",
    "    for entity in node.entities:\n",
    "        containing_node[entity] = node\n",
    "\n",
    "def create_relation(graph: Graph, e0: Entity, e1: Entity) -> Relation:\n",
    "    \"\"\"Creates a relation between the pair of entities.\n",
    "\n",
    "    Args:\n",
    "        graph (Graph): The graph.\n",
    "        e0 (Entity): The first entity.\n",
    "        e1 (Entity): The second entity.\n",
    "\n",
    "    Returns:\n",
    "        Relation: A relation between the entities.\n",
    "    \"\"\"\n",
    "    return Relation(e0, e1, device_to_device_delay(graph, containing_node[e0], containing_node[e1]))\n",
    "\n",
    "# Define the relations between clients and services.\n",
    "system = [\n",
    "    create_relation(G, C0, S3),\n",
    "    create_relation(G, C0, S4),\n",
    "    create_relation(G, C1, S0),\n",
    "    create_relation(G, C2, S4),\n",
    "    create_relation(G, C3, S4),\n",
    "    create_relation(G, C3, S0),\n",
    "    create_relation(G, C4, S1),\n",
    "    create_relation(G, C5, S0)\n",
    "]\n",
    "\n",
    "# Compute the worst-case discovery time.\n",
    "analysis.timing_analysis_system(system)\n"
   ]
  },
  {
   "cell_type": "markdown",
   "metadata": {},
   "source": [
    "# Graph to CSV"
   ]
  },
  {
   "cell_type": "code",
   "execution_count": null,
   "metadata": {},
   "outputs": [],
   "source": [
    "# We save the current graph.\n",
    "Graph.write_to_csv(G, \"test.csv\")\n",
    "# We load the graph from file.\n",
    "G1 = Graph.read_from_csv(\"test.csv\")\n",
    "print(G)\n",
    "print(G1)"
   ]
  }
 ],
 "metadata": {
  "kernelspec": {
   "display_name": "Python 3",
   "language": "python",
   "name": "python3"
  },
  "language_info": {
   "codemirror_mode": {
    "name": "ipython",
    "version": 3
   },
   "file_extension": ".py",
   "mimetype": "text/x-python",
   "name": "python",
   "nbconvert_exporter": "python",
   "pygments_lexer": "ipython3",
   "version": "3.10.12"
  }
 },
 "nbformat": 4,
 "nbformat_minor": 2
}
