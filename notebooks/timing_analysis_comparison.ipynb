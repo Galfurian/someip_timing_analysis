{
 "cells": [
  {
   "cell_type": "code",
   "execution_count": null,
   "id": "208327ee-15d9-41c9-8c48-45af307b21e6",
   "metadata": {},
   "outputs": [],
   "source": [
    "# Import the SOME/IP entities.\n",
    "from someip_timing_analysis.entities import *\n",
    "# Import the timing analysis functions.\n",
    "import someip_timing_analysis.analysis as analysis\n",
    "import someip_timing_analysis.analysis_ssg15 as analysis_ssg15\n",
    "# Import the plot functions.\n",
    "from support.utility import *\n",
    "from support.plot import *"
   ]
  },
  {
   "cell_type": "code",
   "execution_count": null,
   "id": "c4adf4cf-2c8d-4fce-93b6-0cdda3725caf",
   "metadata": {},
   "outputs": [],
   "source": [
    "# Set the logging level.\n",
    "analysis.set_logger_level(analysis.logging.DEBUG)\n",
    "analysis_ssg15.set_logger_level(analysis.logging.DEBUG)"
   ]
  },
  {
   "cell_type": "markdown",
   "id": "aa17eed6-c2e9-499a-b60f-b0e5f60666e1",
   "metadata": {},
   "source": [
    "# Service in Offer Mode and Client in Listen Mode"
   ]
  },
  {
   "cell_type": "markdown",
   "id": "5cb43393-e85d-4013-b826-7f693f21fe88",
   "metadata": {},
   "source": [
    "## Client faster than Service"
   ]
  },
  {
   "cell_type": "code",
   "execution_count": null,
   "id": "05574449-a9d6-4845-8075-06a99274f0e6",
   "metadata": {},
   "outputs": [],
   "source": [
    "# Service and client configuration.\n",
    "s = Service(\"Service\", boot_del=2, init_del=4, rep_del=1, rep_max=3, cyc_del=2, ans_del=1, offer_mode=True)\n",
    "c = Client(\"Client\", boot_del=3, init_del=2, rep_del=1, rep_max=3, find_mode=False)\n",
    "# List of entities.\n",
    "entities = [c, s]\n",
    "# Communication delay.\n",
    "t_c = 1\n",
    "# Adjust the phases.\n",
    "adjust_phases(entities)\n",
    "# The actual start-up delay.\n",
    "t_w = analysis.timing_analysis(s, c, t_c)\n",
    "t_w_ssg15 = analysis_ssg15.timing_analysis(s, c, t_c)\n",
    "# Setup the plot.\n",
    "[fig, ax] = plot_setup(entities, width=20, height=5, fontsize=22)\n",
    "# Plot the phases.\n",
    "plot_all_phases(ax, entities=entities, palette=light_palette)\n",
    "# Plot service messages.\n",
    "plot_rep_messages(ax, s, c, t_c, plot_first=True, stop_at_first=False, send_time=False, arrival_time=False, plot_answer=False, plot_index=True)\n",
    "plot_cyc_messages(ax, s, c, t_c, plot_first=True, stop_at_first=False, send_time=False, arrival_time=False, plot_answer=False, plot_index=True)\n",
    "plot_rep_messages(ax, c, s, t_c, plot_first=True, stop_at_first=False, send_time=False, arrival_time=False, plot_answer=True, plot_index=True)\n",
    "# Plot the timing analysis result.\n",
    "plot_t_w(t_w, color='purple', label=\"Our Approach\", ha=\"left\", fontsize=22)\n",
    "plot_t_w(t_w_ssg15, color='green', label=\"[SSG+15]\", ha=\"right\", fontsize=22)"
   ]
  },
  {
   "cell_type": "markdown",
   "id": "0148495e-4352-4d54-b028-70a6ad64b3cb",
   "metadata": {},
   "source": [
    "## Service faster than Client"
   ]
  },
  {
   "cell_type": "code",
   "execution_count": null,
   "id": "19af3b22-603c-472c-8ffc-3c8bf774f435",
   "metadata": {},
   "outputs": [],
   "source": [
    "# Service and client configuration.\n",
    "s = Service(\"Service\", boot_del=3, init_del=2, rep_del=1, rep_max=3, cyc_del=1, ans_del=1, offer_mode=True)\n",
    "c = Client(\"Client\", boot_del=14, init_del=2, rep_del=1, rep_max=3, find_mode=False)\n",
    "# List of entities.\n",
    "entities = [c, s]\n",
    "# Communication delay.\n",
    "t_c = 2\n",
    "# Adjust the phases.\n",
    "adjust_phases(entities)\n",
    "# The actual start-up delay.\n",
    "t_w = analysis.timing_analysis(s, c, t_c)\n",
    "t_w_ssg15 = analysis_ssg15.timing_analysis(s, c, t_c)\n",
    "# Setup the plot.\n",
    "[fig, ax] = plot_setup(entities, width=20, height=5, fontsize=22)\n",
    "# Plot the phases.\n",
    "plot_all_phases(ax, entities=entities, palette=light_palette)\n",
    "# Plot service messages.\n",
    "plot_rep_messages(ax, s, c, t_c, plot_first=True, stop_at_first=False, send_time=False, arrival_time=False, plot_answer=False, plot_index=True)\n",
    "plot_cyc_messages(ax, s, c, t_c, plot_first=True, stop_at_first=False, send_time=False, arrival_time=False, plot_answer=False, plot_index=True)\n",
    "plot_rep_messages(ax, c, s, t_c, plot_first=True, stop_at_first=False, send_time=False, arrival_time=False, plot_answer=True, plot_index=True)\n",
    "# Plot the timing analysis result.\n",
    "plot_t_w(t_w, color='purple', label=\"Our Approach\", ha=\"left\", fontsize=22)\n",
    "plot_t_w(t_w_ssg15, color='green', label=\"[SSG+15]\", ha=\"right\", fontsize=22)"
   ]
  },
  {
   "cell_type": "markdown",
   "id": "0cf3c4db-b7e6-4e06-8f8b-9deb46d47ad0",
   "metadata": {},
   "source": [
    "# Service in Silent Mode and Client in Request Mode"
   ]
  },
  {
   "cell_type": "markdown",
   "id": "6cb0e952-88ed-4fac-a78e-b3a1c8459c98",
   "metadata": {},
   "source": [
    "## Client faster than Service"
   ]
  },
  {
   "cell_type": "code",
   "execution_count": null,
   "id": "5dbd9aab-d073-4bae-b4d6-5373bf8f37f7",
   "metadata": {},
   "outputs": [],
   "source": [
    "# Service and client configuration.\n",
    "s = Service(\"Service\", boot_del=4, init_del=3, rep_del=1, rep_max=3, cyc_del=2, ans_del=1, offer_mode=False)\n",
    "c = Client(\"Client\", boot_del=2, init_del=3, rep_del=1, rep_max=3, find_mode=True)\n",
    "# List of entities.\n",
    "entities = [c, s]\n",
    "# Communication delay.\n",
    "t_c = 1\n",
    "# Adjust the phases.\n",
    "adjust_phases(entities)\n",
    "# The actual start-up delay.\n",
    "t_w = analysis.timing_analysis(s, c, t_c)\n",
    "t_w_ssg15 = analysis_ssg15.timing_analysis(s, c, t_c)\n",
    "# Setup the plot.\n",
    "[fig, ax] = plot_setup(entities, width=20, height=5, fontsize=22)\n",
    "# Plot the phases.\n",
    "plot_all_phases(ax, entities=entities, palette=light_palette)\n",
    "# Plot service messages.\n",
    "plot_rep_messages(ax, s, c, t_c, plot_first=True, stop_at_first=False, send_time=False, arrival_time=False, plot_answer=False, plot_index=True)\n",
    "plot_cyc_messages(ax, s, c, t_c, plot_first=True, stop_at_first=False, send_time=False, arrival_time=False, plot_answer=False, plot_index=True)\n",
    "plot_rep_messages(ax, c, s, t_c, plot_first=True, stop_at_first=False, send_time=False, arrival_time=False, plot_answer=True, plot_index=True)\n",
    "# Plot the timing analysis result.\n",
    "plot_t_w(t_w, color='purple', label=\"Our Approach\", ha=\"left\", fontsize=22)\n",
    "plot_t_w(t_w_ssg15, color='green', label=\"[SSG+15]\", ha=\"right\", fontsize=22)"
   ]
  },
  {
   "cell_type": "markdown",
   "id": "71d6a87d-8ad5-4cec-92f2-962837e92bf2",
   "metadata": {},
   "source": [
    "## Service faster than Client"
   ]
  },
  {
   "cell_type": "code",
   "execution_count": null,
   "id": "9b7c4a28-2546-4db3-8177-89efbcb01a29",
   "metadata": {},
   "outputs": [],
   "source": [
    "# Service and client configuration.\n",
    "s = Service(\"Service\", boot_del=3, init_del=2, rep_del=1, rep_max=3, cyc_del=2, ans_del=1, offer_mode=False)\n",
    "c = Client(\"Client\", boot_del=8, init_del=2, rep_del=1, rep_max=3, find_mode=True)\n",
    "# List of entities.\n",
    "entities = [c, s]\n",
    "# Communication delay.\n",
    "t_c = 1\n",
    "# Adjust the phases.\n",
    "adjust_phases(entities)\n",
    "# The actual start-up delay.\n",
    "t_w = analysis.timing_analysis(s, c, t_c)\n",
    "t_w_ssg15 = analysis_ssg15.timing_analysis(s, c, t_c)\n",
    "# Setup the plot.\n",
    "[fig, ax] = plot_setup(entities, width=20, height=5, fontsize=22)\n",
    "# Plot the phases.\n",
    "plot_all_phases(ax, entities=entities, palette=light_palette)\n",
    "# Plot service messages.\n",
    "plot_rep_messages(ax, s, c, t_c, plot_first=True, stop_at_first=False, send_time=False, arrival_time=False, plot_answer=False, plot_index=True)\n",
    "plot_cyc_messages(ax, s, c, t_c, plot_first=True, stop_at_first=False, send_time=False, arrival_time=False, plot_answer=False, plot_index=True)\n",
    "plot_rep_messages(ax, c, s, t_c, plot_first=True, stop_at_first=False, send_time=False, arrival_time=False, plot_answer=True, plot_index=True)\n",
    "# Plot the timing analysis result.\n",
    "plot_t_w(t_w, color='purple', label=\"Our Approach\", ha=\"left\", fontsize=22)\n",
    "plot_t_w(t_w_ssg15, color='green', label=\"[SSG+15]\", ha=\"right\", fontsize=22)"
   ]
  },
  {
   "cell_type": "markdown",
   "id": "5c68ee46-d60b-4f1d-9c77-4cf6b48ee35e",
   "metadata": {},
   "source": [
    "# Service in Offer Mode and Client in Request Mode"
   ]
  },
  {
   "cell_type": "markdown",
   "id": "c56516f8-28e2-4103-8416-05451e4a0ddd",
   "metadata": {},
   "source": [
    "## Client faster than Service"
   ]
  },
  {
   "cell_type": "code",
   "execution_count": null,
   "id": "e117891a-0c05-42b9-8608-f20cd0b554c9",
   "metadata": {},
   "outputs": [],
   "source": [
    "# Service and client configuration.\n",
    "s = Service(\"Service\", boot_del=3, init_del=3, rep_del=1, rep_max=3, cyc_del=2, ans_del=1, offer_mode=True)\n",
    "c = Client(\"Client\", boot_del=2, init_del=2, rep_del=1, rep_max=3, find_mode=True)\n",
    "# List of entities.\n",
    "entities = [c, s]\n",
    "# Communication delay.\n",
    "t_c = 1\n",
    "# Adjust the phases.\n",
    "adjust_phases(entities)\n",
    "# The actual start-up delay.\n",
    "t_w = analysis.timing_analysis(s, c, t_c)\n",
    "t_w_ssg15 = analysis_ssg15.timing_analysis(s, c, t_c)\n",
    "# Setup the plot.\n",
    "[fig, ax] = plot_setup(entities, width=20, height=5, fontsize=22)\n",
    "# Plot the phases.\n",
    "plot_all_phases(ax, entities=entities, palette=light_palette)\n",
    "# Plot service messages.\n",
    "plot_rep_messages(ax, s, c, t_c, plot_first=True, stop_at_first=False, send_time=False, arrival_time=False, plot_answer=False, plot_index=True)\n",
    "plot_cyc_messages(ax, s, c, t_c, plot_first=True, stop_at_first=False, send_time=False, arrival_time=False, plot_answer=False, plot_index=True)\n",
    "plot_rep_messages(ax, c, s, t_c, plot_first=True, stop_at_first=False, send_time=False, arrival_time=False, plot_answer=True, plot_index=True)\n",
    "# Plot the timing analysis result.\n",
    "plot_t_w(t_w, color='purple', label=\"Our Approach\", ha=\"left\", fontsize=22)\n",
    "plot_t_w(t_w_ssg15, color='green', label=\"[SSG+15]\", ha=\"right\", fontsize=22)"
   ]
  },
  {
   "cell_type": "markdown",
   "id": "95c42d41-36f2-4876-a22d-b11bbe08a451",
   "metadata": {},
   "source": [
    "## Service faster than Client"
   ]
  },
  {
   "cell_type": "code",
   "execution_count": null,
   "id": "3023cbb1-4d40-410c-85cc-5e49c0498834",
   "metadata": {},
   "outputs": [],
   "source": [
    "# Service and client configuration.\n",
    "s = Service(\"Service\", boot_del=2,  init_del=2, rep_del=1, rep_max=3, cyc_del=2, ans_del=1, offer_mode=True)\n",
    "c = Client(\"Client\", boot_del=7, init_del=4, rep_del=1, rep_max=3, find_mode=True)\n",
    "# List of entities.\n",
    "entities = [c, s]\n",
    "# Communication delay.\n",
    "t_c = 1\n",
    "# Adjust the phases.\n",
    "adjust_phases(entities)\n",
    "# The actual start-up delay.\n",
    "t_w = analysis.timing_analysis(s, c, t_c)\n",
    "t_w_ssg15 = analysis_ssg15.timing_analysis(s, c, t_c)\n",
    "# Setup the plot.\n",
    "[fig, ax] = plot_setup(entities, width=20, height=5, fontsize=22)\n",
    "# Plot the phases.\n",
    "plot_all_phases(ax, entities=entities, palette=light_palette)\n",
    "# Plot service messages.\n",
    "plot_rep_messages(ax, s, c, t_c, plot_first=True, stop_at_first=False, send_time=False, arrival_time=False, plot_answer=False, plot_index=True)\n",
    "plot_cyc_messages(ax, s, c, t_c, plot_first=True, stop_at_first=False, send_time=False, arrival_time=False, plot_answer=False, plot_index=True)\n",
    "plot_rep_messages(ax, c, s, t_c, plot_first=True, stop_at_first=False, send_time=False, arrival_time=False, plot_answer=True, plot_index=True)\n",
    "# Plot the timing analysis result.\n",
    "plot_t_w(t_w, color='purple', label=\"Our Approach\", ha=\"left\", fontsize=22)\n",
    "plot_t_w(t_w_ssg15, color='green', label=\"[SSG+15]\", ha=\"right\", fontsize=22)"
   ]
  }
 ],
 "metadata": {
  "kernelspec": {
   "display_name": "Python 3 (ipykernel)",
   "language": "python",
   "name": "python3"
  },
  "language_info": {
   "codemirror_mode": {
    "name": "ipython",
    "version": 3
   },
   "file_extension": ".py",
   "mimetype": "text/x-python",
   "name": "python",
   "nbconvert_exporter": "python",
   "pygments_lexer": "ipython3",
   "version": "3.10.12"
  }
 },
 "nbformat": 4,
 "nbformat_minor": 5
}
